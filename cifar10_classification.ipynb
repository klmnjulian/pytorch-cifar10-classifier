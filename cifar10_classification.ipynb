{
  "nbformat": 4,
  "nbformat_minor": 0,
  "metadata": {
    "colab": {
      "provenance": [],
      "gpuType": "T4",
      "authorship_tag": "ABX9TyMhsSIOPRgFW16eoeR8V0iy",
      "include_colab_link": true
    },
    "kernelspec": {
      "name": "python3",
      "display_name": "Python 3"
    },
    "language_info": {
      "name": "python"
    },
    "accelerator": "GPU"
  },
  "cells": [
    {
      "cell_type": "markdown",
      "metadata": {
        "id": "view-in-github",
        "colab_type": "text"
      },
      "source": [
        "<a href=\"https://colab.research.google.com/github/klmnjulian/pytorch-cifar10-classifier/blob/main/cifar10_classification.ipynb\" target=\"_parent\"><img src=\"https://colab.research.google.com/assets/colab-badge.svg\" alt=\"Open In Colab\"/></a>"
      ]
    },
    {
      "cell_type": "code",
      "execution_count": 2,
      "metadata": {
        "id": "GdglH-J30g0R"
      },
      "outputs": [],
      "source": [
        "import torch\n",
        "import torchvision\n",
        "import torchvision.transforms as transforms"
      ]
    },
    {
      "cell_type": "code",
      "source": [
        "transform = transforms.Compose([\n",
        "    transforms.ToTensor(),\n",
        "    transforms.Normalize((0.5, 0.5, 0.5), (0.5, 0.5, 0.5))\n",
        "])\n",
        "\n",
        "trainset = torchvision.datasets.CIFAR10(root='./data', train=True,\n",
        "                                        download=True, transform=transform)\n",
        "trainloader = torch.utils.data.DataLoader(trainset, batch_size=4,\n",
        "                                          shuffle=True, num_workers=2)\n",
        "\n",
        "testset = torchvision.datasets.CIFAR10(root='./data', train=False,\n",
        "                                       download=True, transform=transform)\n",
        "testloader = torch.utils.data.DataLoader(testset, batch_size=4,\n",
        "                                         shuffle=False, num_workers=2)\n",
        "\n",
        "classes = ('plane', 'car', 'bird', 'cat',\n",
        "           'deer', 'dog', 'frog', 'horse', 'ship', 'truck')\n"
      ],
      "metadata": {
        "colab": {
          "base_uri": "https://localhost:8080/"
        },
        "id": "0yIVXoah0ixY",
        "outputId": "ea82a848-2664-4145-9d5f-a21ccc930611"
      },
      "execution_count": 3,
      "outputs": [
        {
          "output_type": "stream",
          "name": "stdout",
          "text": [
            "Downloading https://www.cs.toronto.edu/~kriz/cifar-10-python.tar.gz to ./data/cifar-10-python.tar.gz\n"
          ]
        },
        {
          "output_type": "stream",
          "name": "stderr",
          "text": [
            "100%|██████████| 170498071/170498071 [00:13<00:00, 13107487.26it/s]\n"
          ]
        },
        {
          "output_type": "stream",
          "name": "stdout",
          "text": [
            "Extracting ./data/cifar-10-python.tar.gz to ./data\n",
            "Files already downloaded and verified\n"
          ]
        }
      ]
    },
    {
      "cell_type": "code",
      "source": [
        "import torch.nn as nn\n",
        "import torch.nn.functional as F\n",
        "\n",
        "class Net(nn.Module):\n",
        "    def __init__(self):\n",
        "        super(Net, self).__init__()\n",
        "        self.conv1 = nn.Conv2d(3, 6, 5)\n",
        "        self.pool = nn.MaxPool2d(2, 2)\n",
        "        self.conv2 = nn.Conv2d(6, 16, 5)\n",
        "        self.fc1 = nn.Linear(16 * 5 * 5, 120)\n",
        "        self.fc2 = nn.Linear(120, 84)\n",
        "        self.fc3 = nn.Linear(84, 10)\n",
        "\n",
        "    def forward(self, x):\n",
        "        x = self.pool(F.relu(self.conv1(x)))\n",
        "        x = self.pool(F.relu(self.conv2(x)))\n",
        "        x = x.view(-1, 16 * 5 * 5)\n",
        "        x = F.relu(self.fc1(x))\n",
        "        x = F.relu(self.fc2(x))\n",
        "        x = self.fc3(x)\n",
        "        return x\n",
        "\n",
        "net = Net()"
      ],
      "metadata": {
        "id": "mdANkN5y01tD"
      },
      "execution_count": 4,
      "outputs": []
    },
    {
      "cell_type": "code",
      "source": [
        "import torch.optim as optim\n",
        "\n",
        "criterion = nn.CrossEntropyLoss()\n",
        "optimizer = optim.SGD(net.parameters(), lr=0.001, momentum=0.9)"
      ],
      "metadata": {
        "id": "hLFF9sqD0-_L"
      },
      "execution_count": 7,
      "outputs": []
    },
    {
      "cell_type": "code",
      "source": [
        "epochs = 10"
      ],
      "metadata": {
        "id": "EuCa2de-1OsS"
      },
      "execution_count": 12,
      "outputs": []
    },
    {
      "cell_type": "code",
      "source": [
        "for epoch in range(epochs):\n",
        "    running_loss = 0.0\n",
        "    for i, data in enumerate(trainloader, 0):\n",
        "        inputs, labels = data\n",
        "\n",
        "        optimizer.zero_grad()\n",
        "\n",
        "        outputs = net(inputs)\n",
        "        loss = criterion(outputs, labels)\n",
        "        loss.backward()\n",
        "        optimizer.step()\n",
        "\n",
        "        running_loss += loss.item()\n",
        "        if i % 2000 == 1999:\n",
        "            print('[%d, %5d] loss: %.3f' %\n",
        "                  (epoch + 1, i + 1, running_loss / 2000))\n",
        "            running_loss = 0.0\n",
        "\n",
        "print('Finished Training')"
      ],
      "metadata": {
        "colab": {
          "base_uri": "https://localhost:8080/"
        },
        "id": "OHvHRWNK1BSF",
        "outputId": "d2f945ce-86de-41f0-f378-9d22bd1e64ad"
      },
      "execution_count": 13,
      "outputs": [
        {
          "output_type": "stream",
          "name": "stdout",
          "text": [
            "[1,  2000] loss: 0.926\n",
            "[1,  4000] loss: 0.946\n",
            "[1,  6000] loss: 0.946\n",
            "[1,  8000] loss: 0.947\n",
            "[1, 10000] loss: 0.956\n",
            "[1, 12000] loss: 0.946\n",
            "[2,  2000] loss: 0.873\n",
            "[2,  4000] loss: 0.872\n",
            "[2,  6000] loss: 0.913\n",
            "[2,  8000] loss: 0.905\n",
            "[2, 10000] loss: 0.923\n",
            "[2, 12000] loss: 0.928\n",
            "[3,  2000] loss: 0.816\n",
            "[3,  4000] loss: 0.848\n",
            "[3,  6000] loss: 0.865\n",
            "[3,  8000] loss: 0.868\n",
            "[3, 10000] loss: 0.894\n",
            "[3, 12000] loss: 0.873\n",
            "[4,  2000] loss: 0.776\n",
            "[4,  4000] loss: 0.804\n",
            "[4,  6000] loss: 0.829\n",
            "[4,  8000] loss: 0.849\n",
            "[4, 10000] loss: 0.841\n",
            "[4, 12000] loss: 0.873\n",
            "[5,  2000] loss: 0.751\n",
            "[5,  4000] loss: 0.781\n",
            "[5,  6000] loss: 0.796\n",
            "[5,  8000] loss: 0.820\n",
            "[5, 10000] loss: 0.828\n",
            "[5, 12000] loss: 0.829\n",
            "[6,  2000] loss: 0.725\n",
            "[6,  4000] loss: 0.773\n",
            "[6,  6000] loss: 0.759\n",
            "[6,  8000] loss: 0.794\n",
            "[6, 10000] loss: 0.803\n",
            "[6, 12000] loss: 0.807\n",
            "[7,  2000] loss: 0.703\n",
            "[7,  4000] loss: 0.725\n",
            "[7,  6000] loss: 0.732\n",
            "[7,  8000] loss: 0.778\n",
            "[7, 10000] loss: 0.790\n",
            "[7, 12000] loss: 0.798\n",
            "[8,  2000] loss: 0.689\n",
            "[8,  4000] loss: 0.705\n",
            "[8,  6000] loss: 0.709\n",
            "[8,  8000] loss: 0.741\n",
            "[8, 10000] loss: 0.771\n",
            "[8, 12000] loss: 0.758\n",
            "[9,  2000] loss: 0.652\n",
            "[9,  4000] loss: 0.679\n",
            "[9,  6000] loss: 0.700\n",
            "[9,  8000] loss: 0.711\n",
            "[9, 10000] loss: 0.734\n",
            "[9, 12000] loss: 0.777\n",
            "[10,  2000] loss: 0.642\n",
            "[10,  4000] loss: 0.678\n",
            "[10,  6000] loss: 0.687\n",
            "[10,  8000] loss: 0.703\n",
            "[10, 10000] loss: 0.746\n",
            "[10, 12000] loss: 0.737\n",
            "Finished Training\n"
          ]
        }
      ]
    },
    {
      "cell_type": "code",
      "source": [
        "correct = 0\n",
        "total = 0\n",
        "with torch.no_grad():\n",
        "    for data in testloader:\n",
        "        images, labels = data\n",
        "        outputs = net(images)\n",
        "        _, predicted = torch.max(outputs.data, 1)\n",
        "        total += labels.size(0)\n",
        "        correct += (predicted == labels).sum().item()\n",
        "\n",
        "print('Accuracy of the network on the 10000 test images: %d %%' % (\n",
        "    100 * correct / total))\n"
      ],
      "metadata": {
        "colab": {
          "base_uri": "https://localhost:8080/"
        },
        "id": "A1afQg551ENF",
        "outputId": "79098997-a7e0-4276-8735-f039b48c3969"
      },
      "execution_count": 11,
      "outputs": [
        {
          "output_type": "stream",
          "name": "stdout",
          "text": [
            "Accuracy of the network on the 10000 test images: 60 %\n"
          ]
        }
      ]
    }
  ]
}